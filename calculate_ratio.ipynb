{
 "cells": [
  {
   "cell_type": "code",
   "execution_count": 1,
   "id": "53db71f0",
   "metadata": {},
   "outputs": [
    {
     "data": {
      "application/vnd.jupyter.widget-view+json": {
       "model_id": "7a9572b4adfb4ba0ae3a441d7313a89e",
       "version_major": 2,
       "version_minor": 0
      },
      "text/plain": [
       "VBox()"
      ]
     },
     "metadata": {},
     "output_type": "display_data"
    },
    {
     "name": "stdout",
     "output_type": "stream",
     "text": [
      "Starting Spark application\n"
     ]
    },
    {
     "data": {
      "text/html": [
       "<table>\n",
       "<tr><th>ID</th><th>YARN Application ID</th><th>Kind</th><th>State</th><th>Spark UI</th><th>Driver log</th><th>Current session?</th></tr><tr><td>0</td><td>application_1671601772602_0001</td><td>pyspark</td><td>idle</td><td><a target=\"_blank\" href=\"http://ip-172-31-56-72.ec2.internal:20888/proxy/application_1671601772602_0001/\">Link</a></td><td><a target=\"_blank\" href=\"http://ip-172-31-48-125.ec2.internal:8042/node/containerlogs/container_1671601772602_0001_01_000001/livy\">Link</a></td><td>✔</td></tr></table>"
      ],
      "text/plain": [
       "<IPython.core.display.HTML object>"
      ]
     },
     "metadata": {},
     "output_type": "display_data"
    },
    {
     "data": {
      "application/vnd.jupyter.widget-view+json": {
       "model_id": "",
       "version_major": 2,
       "version_minor": 0
      },
      "text/plain": [
       "FloatProgress(value=0.0, bar_style='info', description='Progress:', layout=Layout(height='25px', width='50%'),…"
      ]
     },
     "metadata": {},
     "output_type": "display_data"
    },
    {
     "name": "stdout",
     "output_type": "stream",
     "text": [
      "SparkSession available as 'spark'.\n"
     ]
    },
    {
     "data": {
      "application/vnd.jupyter.widget-view+json": {
       "model_id": "",
       "version_major": 2,
       "version_minor": 0
      },
      "text/plain": [
       "FloatProgress(value=0.0, bar_style='info', description='Progress:', layout=Layout(height='25px', width='50%'),…"
      ]
     },
     "metadata": {},
     "output_type": "display_data"
    }
   ],
   "source": [
    "import re\n",
    "import pyspark"
   ]
  },
  {
   "cell_type": "code",
   "execution_count": 2,
   "id": "328f5381",
   "metadata": {},
   "outputs": [
    {
     "data": {
      "application/vnd.jupyter.widget-view+json": {
       "model_id": "eef01cdf775947c0a1e787c1ee34ed9f",
       "version_major": 2,
       "version_minor": 0
      },
      "text/plain": [
       "VBox()"
      ]
     },
     "metadata": {},
     "output_type": "display_data"
    },
    {
     "data": {
      "application/vnd.jupyter.widget-view+json": {
       "model_id": "",
       "version_major": 2,
       "version_minor": 0
      },
      "text/plain": [
       "FloatProgress(value=0.0, bar_style='info', description='Progress:', layout=Layout(height='25px', width='50%'),…"
      ]
     },
     "metadata": {},
     "output_type": "display_data"
    }
   ],
   "source": [
    "config_raw = spark.sparkContext.textFile('s3://userconfig-6998/userConfigs.txt')\n",
    "hardware_raw = spark.sparkContext.textFile('s3://userconfig-6998/hardware.txt')"
   ]
  },
  {
   "cell_type": "code",
   "execution_count": null,
   "id": "ff27b115",
   "metadata": {},
   "outputs": [],
   "source": []
  },
  {
   "cell_type": "code",
   "execution_count": 3,
   "id": "e065e045",
   "metadata": {},
   "outputs": [
    {
     "data": {
      "application/vnd.jupyter.widget-view+json": {
       "model_id": "0f887a0a32f04b3e9e5b1863e4830ff0",
       "version_major": 2,
       "version_minor": 0
      },
      "text/plain": [
       "VBox()"
      ]
     },
     "metadata": {},
     "output_type": "display_data"
    },
    {
     "data": {
      "application/vnd.jupyter.widget-view+json": {
       "model_id": "",
       "version_major": 2,
       "version_minor": 0
      },
      "text/plain": [
       "FloatProgress(value=0.0, bar_style='info', description='Progress:', layout=Layout(height='25px', width='50%'),…"
      ]
     },
     "metadata": {},
     "output_type": "display_data"
    }
   ],
   "source": [
    "config = config_raw.map(lambda x: x.split(','))\n",
    "hardware = hardware_raw.map(lambda x: x.split(',')).map(lambda x: (x[0], x[1], float(x[2])))"
   ]
  },
  {
   "cell_type": "code",
   "execution_count": 4,
   "id": "d8e04a32",
   "metadata": {
    "scrolled": true
   },
   "outputs": [
    {
     "data": {
      "application/vnd.jupyter.widget-view+json": {
       "model_id": "255c5a1ceeea4543b87295eee4037720",
       "version_major": 2,
       "version_minor": 0
      },
      "text/plain": [
       "VBox()"
      ]
     },
     "metadata": {},
     "output_type": "display_data"
    },
    {
     "data": {
      "application/vnd.jupyter.widget-view+json": {
       "model_id": "",
       "version_major": 2,
       "version_minor": 0
      },
      "text/plain": [
       "FloatProgress(value=0.0, bar_style='info', description='Progress:', layout=Layout(height='25px', width='50%'),…"
      ]
     },
     "metadata": {},
     "output_type": "display_data"
    },
    {
     "name": "stdout",
     "output_type": "stream",
     "text": [
      "[['testuser0', '1671592780116', 'student', 'Intel Core i5-12400', 'MSI MSI GTX 1070 Ti 8GB Gaming', 'Crucial Ballistix Sport DDR4 2400 C16 8x4GB', 'WD Black SN850 NVMe PCIe M.2 2TB', 'WD VelociRaptor 1TB']]"
     ]
    }
   ],
   "source": [
    "# config.take(1)"
   ]
  },
  {
   "cell_type": "code",
   "execution_count": 5,
   "id": "05b98ce9",
   "metadata": {},
   "outputs": [
    {
     "data": {
      "application/vnd.jupyter.widget-view+json": {
       "model_id": "9d9cf45844274a34ac5a9012a7aca38f",
       "version_major": 2,
       "version_minor": 0
      },
      "text/plain": [
       "VBox()"
      ]
     },
     "metadata": {},
     "output_type": "display_data"
    },
    {
     "data": {
      "application/vnd.jupyter.widget-view+json": {
       "model_id": "",
       "version_major": 2,
       "version_minor": 0
      },
      "text/plain": [
       "FloatProgress(value=0.0, bar_style='info', description='Progress:', layout=Layout(height='25px', width='50%'),…"
      ]
     },
     "metadata": {},
     "output_type": "display_data"
    },
    {
     "name": "stdout",
     "output_type": "stream",
     "text": [
      "[('Toshiba HDWD105 500GB', 'HDD', 59.99)]"
     ]
    }
   ],
   "source": [
    "# hardware.take(1)"
   ]
  },
  {
   "cell_type": "code",
   "execution_count": 6,
   "id": "2a3fef36",
   "metadata": {},
   "outputs": [
    {
     "data": {
      "application/vnd.jupyter.widget-view+json": {
       "model_id": "53813438e5214f71b1d1e12d9af25ec2",
       "version_major": 2,
       "version_minor": 0
      },
      "text/plain": [
       "VBox()"
      ]
     },
     "metadata": {},
     "output_type": "display_data"
    },
    {
     "data": {
      "application/vnd.jupyter.widget-view+json": {
       "model_id": "",
       "version_major": 2,
       "version_minor": 0
      },
      "text/plain": [
       "FloatProgress(value=0.0, bar_style='info', description='Progress:', layout=Layout(height='25px', width='50%'),…"
      ]
     },
     "metadata": {},
     "output_type": "display_data"
    },
    {
     "name": "stdout",
     "output_type": "stream",
     "text": [
      "root\n",
      " |-- name: string (nullable = true)\n",
      " |-- category: string (nullable = true)\n",
      " |-- price: double (nullable = true)"
     ]
    }
   ],
   "source": [
    "hardwareDF = hardware.toDF([\"name\", \"category\", \"price\"])\n",
    "# hardwareDF.printSchema()"
   ]
  },
  {
   "cell_type": "code",
   "execution_count": null,
   "id": "2ef61ff0",
   "metadata": {},
   "outputs": [],
   "source": []
  },
  {
   "cell_type": "code",
   "execution_count": 7,
   "id": "0cdf982c",
   "metadata": {},
   "outputs": [
    {
     "data": {
      "application/vnd.jupyter.widget-view+json": {
       "model_id": "512f6feee8564aada4cd6471baa78405",
       "version_major": 2,
       "version_minor": 0
      },
      "text/plain": [
       "VBox()"
      ]
     },
     "metadata": {},
     "output_type": "display_data"
    },
    {
     "data": {
      "application/vnd.jupyter.widget-view+json": {
       "model_id": "",
       "version_major": 2,
       "version_minor": 0
      },
      "text/plain": [
       "FloatProgress(value=0.0, bar_style='info', description='Progress:', layout=Layout(height='25px', width='50%'),…"
      ]
     },
     "metadata": {},
     "output_type": "display_data"
    },
    {
     "name": "stdout",
     "output_type": "stream",
     "text": [
      "root\n",
      " |-- user: string (nullable = true)\n",
      " |-- config_id: string (nullable = true)\n",
      " |-- category: string (nullable = true)\n",
      " |-- CPU: string (nullable = true)\n",
      " |-- GPU: string (nullable = true)\n",
      " |-- RAM: string (nullable = true)\n",
      " |-- SSD: string (nullable = true)\n",
      " |-- HDD: string (nullable = true)"
     ]
    }
   ],
   "source": [
    "configDF = config.toDF([\"user\", \"config_id\", \"category\", \"CPU\", \"GPU\", \"RAM\", \"SSD\", \"HDD\"])\n",
    "# configDF.printSchema()"
   ]
  },
  {
   "cell_type": "code",
   "execution_count": 9,
   "id": "e5125495",
   "metadata": {},
   "outputs": [
    {
     "data": {
      "application/vnd.jupyter.widget-view+json": {
       "model_id": "df75f108dd4b4099a818137b1153b0c5",
       "version_major": 2,
       "version_minor": 0
      },
      "text/plain": [
       "VBox()"
      ]
     },
     "metadata": {},
     "output_type": "display_data"
    },
    {
     "data": {
      "application/vnd.jupyter.widget-view+json": {
       "model_id": "",
       "version_major": 2,
       "version_minor": 0
      },
      "text/plain": [
       "FloatProgress(value=0.0, bar_style='info', description='Progress:', layout=Layout(height='25px', width='50%'),…"
      ]
     },
     "metadata": {},
     "output_type": "display_data"
    }
   ],
   "source": [
    "configDF.createOrReplaceTempView(\"config\")\n",
    "hardwareDF.createOrReplaceTempView(\"hardware\")"
   ]
  },
  {
   "cell_type": "code",
   "execution_count": 13,
   "id": "a1e5b7b2",
   "metadata": {},
   "outputs": [
    {
     "data": {
      "application/vnd.jupyter.widget-view+json": {
       "model_id": "fc5f45ea0212427686f3ad2dd63211cf",
       "version_major": 2,
       "version_minor": 0
      },
      "text/plain": [
       "VBox()"
      ]
     },
     "metadata": {},
     "output_type": "display_data"
    },
    {
     "data": {
      "application/vnd.jupyter.widget-view+json": {
       "model_id": "",
       "version_major": 2,
       "version_minor": 0
      },
      "text/plain": [
       "FloatProgress(value=0.0, bar_style='info', description='Progress:', layout=Layout(height='25px', width='50%'),…"
      ]
     },
     "metadata": {},
     "output_type": "display_data"
    },
    {
     "name": "stdout",
     "output_type": "stream",
     "text": [
      "[Row(category='student', price=234.99, price=189.99, price=47.25, price=79.99, price=38.81)]"
     ]
    }
   ],
   "source": [
    "config_joined = spark.sql(\"select config.category, h1.price, h2.price, h3.price, h4.price, h5.price from config, hardware h1, hardware h2, hardware h3, hardware h4, hardware h5 where config.CPU = h1.name AND config.GPU = h2.name AND config.RAM = h3.name AND config.SSD = h4.name AND config.HDD = h5.name\")\n",
    "# config_joined.take(1)"
   ]
  },
  {
   "cell_type": "code",
   "execution_count": 18,
   "id": "d48aac03",
   "metadata": {},
   "outputs": [
    {
     "data": {
      "application/vnd.jupyter.widget-view+json": {
       "model_id": "2a8f0a189a9548329c17122b01edda6c",
       "version_major": 2,
       "version_minor": 0
      },
      "text/plain": [
       "VBox()"
      ]
     },
     "metadata": {},
     "output_type": "display_data"
    },
    {
     "data": {
      "application/vnd.jupyter.widget-view+json": {
       "model_id": "",
       "version_major": 2,
       "version_minor": 0
      },
      "text/plain": [
       "FloatProgress(value=0.0, bar_style='info', description='Progress:', layout=Layout(height='25px', width='50%'),…"
      ]
     },
     "metadata": {},
     "output_type": "display_data"
    },
    {
     "name": "stdout",
     "output_type": "stream",
     "text": [
      "[('common_user', [248.99, 49.99, 20.98, 109.99, 49.99]), ('gamer', [234.99, 469.99, 47.25, 109.99, 134.99]), ('student', [1996.43, 1847.0800000000002, 331.24, 877.96, 719.76])]"
     ]
    }
   ],
   "source": [
    "config_reduced = config_joined.rdd.map(lambda x: (x[0], [x[1], x[2], x[3], x[4], x[5]])).reduceByKey(lambda x, y: [x[0]+y[0], x[1]+y[1], x[2]+y[2], x[3]+y[3], x[4]+y[4]])\n",
    "# config_reduced.collect()"
   ]
  },
  {
   "cell_type": "code",
   "execution_count": 19,
   "id": "f197080a",
   "metadata": {},
   "outputs": [
    {
     "data": {
      "application/vnd.jupyter.widget-view+json": {
       "model_id": "23215dfbb8884e9b90ba48703aaa3c1b",
       "version_major": 2,
       "version_minor": 0
      },
      "text/plain": [
       "VBox()"
      ]
     },
     "metadata": {},
     "output_type": "display_data"
    },
    {
     "data": {
      "application/vnd.jupyter.widget-view+json": {
       "model_id": "",
       "version_major": 2,
       "version_minor": 0
      },
      "text/plain": [
       "FloatProgress(value=0.0, bar_style='info', description='Progress:', layout=Layout(height='25px', width='50%'),…"
      ]
     },
     "metadata": {},
     "output_type": "display_data"
    },
    {
     "name": "stdout",
     "output_type": "stream",
     "text": [
      "[('common_user', [0.5187940159186565, 0.10415885318998207, 0.04371379755802808, 0.2291744801433512, 0.10415885318998207]), ('gamer', [0.2356474564033654, 0.47130494078478957, 0.047382196327754436, 0.11029773066856528, 0.1353676758155253]), ('student', [0.34585368135304295, 0.31998087473819703, 0.057382714851701266, 0.15209433743267614, 0.12468839162438262])]"
     ]
    }
   ],
   "source": [
    "ratio = config_reduced.map(lambda x: (x[0], [x[1][0], x[1][1], x[1][2], x[1][3], x[1][4], x[1][0] + x[1][1] + x[1][2] + x[1][3] + x[1][4]])).map(lambda x: (x[0], [x[1][0]/x[1][5], x[1][1]/x[1][5], x[1][2]/x[1][5], x[1][3]/x[1][5], x[1][4]/x[1][5]]))\n",
    "# ratio.collect()"
   ]
  },
  {
   "cell_type": "code",
   "execution_count": 21,
   "id": "9c9f82fe",
   "metadata": {},
   "outputs": [
    {
     "data": {
      "application/vnd.jupyter.widget-view+json": {
       "model_id": "67bcd91a875e46d69056a7ab436fedff",
       "version_major": 2,
       "version_minor": 0
      },
      "text/plain": [
       "VBox()"
      ]
     },
     "metadata": {},
     "output_type": "display_data"
    },
    {
     "data": {
      "application/vnd.jupyter.widget-view+json": {
       "model_id": "",
       "version_major": 2,
       "version_minor": 0
      },
      "text/plain": [
       "FloatProgress(value=0.0, bar_style='info', description='Progress:', layout=Layout(height='25px', width='50%'),…"
      ]
     },
     "metadata": {},
     "output_type": "display_data"
    }
   ],
   "source": [
    "ratio.coalesce(1).saveAsTextFile('s3://userconfig-6998/ratio_output')"
   ]
  },
  {
   "cell_type": "code",
   "execution_count": null,
   "id": "3bce9750",
   "metadata": {},
   "outputs": [],
   "source": []
  }
 ],
 "metadata": {
  "kernelspec": {
   "display_name": "PySpark",
   "language": "",
   "name": "pysparkkernel"
  },
  "language_info": {
   "codemirror_mode": {
    "name": "python",
    "version": 2
   },
   "mimetype": "text/x-python",
   "name": "pyspark",
   "pygments_lexer": "python2"
  }
 },
 "nbformat": 4,
 "nbformat_minor": 5
}
